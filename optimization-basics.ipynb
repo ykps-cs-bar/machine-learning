{
 "cells": [
  {
   "cell_type": "markdown",
   "metadata": {},
   "source": [
    "# Optimization Basics\n",
    "\n",
    "In this seminar you will learn about the basics of optimizations and their applications. This notebook explores:\n",
    "- what an optimization problem is\n",
    "- structuring a objective function\n",
    "- convexity, optimality and extremum\n",
    "- basic gradient descent algorithm\n",
    "\n",
    "In this example we will fit a simple polynomial:\n",
    "$$f_c(x) = c_1x^2 + c_2x + c_3$$\n",
    "where $c$ is the vector of coefficients that are to be found.\n",
    "\n",
    "Our task is to find the most likely values of $c$ given a set $P$ of sampling from the image of $f$ corrupted by guassian noise. To structure this as an optimization problem, we incorporate the _mean square error_ as a measurement of \"how far off\" $f_c$ is given an arbitrary $c$."
   ]
  },
  {
   "cell_type": "code",
   "execution_count": 40,
   "metadata": {},
   "outputs": [],
   "source": [
    "# dependencies\n",
    "\n",
    "import numpy as np\n",
    "import matplotlib.pyplot as plt"
   ]
  },
  {
   "cell_type": "code",
   "execution_count": 55,
   "metadata": {},
   "outputs": [
    {
     "name": "stderr",
     "output_type": "stream",
     "text": [
      "/Library/Frameworks/Python.framework/Versions/3.7/lib/python3.7/site-packages/ipykernel_launcher.py:6: VisibleDeprecationWarning: Creating an ndarray from ragged nested sequences (which is a list-or-tuple of lists-or-tuples-or ndarrays with different lengths or shapes) is deprecated. If you meant to do this, you must specify 'dtype=object' when creating the ndarray\n",
      "  \n"
     ]
    }
   ],
   "source": [
    "# initializing parameters\n",
    "\n",
    "np.random.seed(420)\n",
    "\n",
    "c = np.random.rand(3) * 10\n",
    "f = lambda x, c=c: c.dot(np.array([x ** 2, x, 1]))\n",
    "\n",
    "data_x = np.linspace(-15, 15, 75)\n",
    "data_y = f(data_x) + np.random.randn(*data_x.shape) * 50"
   ]
  },
  {
   "cell_type": "code",
   "execution_count": 56,
   "metadata": {},
   "outputs": [
    {
     "data": {
      "image/png": "[encoded data removed]",
      "text/plain": [
       "<Figure size 432x288 with 1 Axes>"
      ]
     },
     "metadata": {
      "needs_background": "light"
     },
     "output_type": "display_data"
    }
   ],
   "source": [
    "# sample plot\n",
    "\n",
    "plt.scatter(data_x, data_y)\n",
    "_ = plt.plot()"
   ]
  },
  {
   "cell_type": "code",
   "execution_count": null,
   "metadata": {},
   "outputs": [],
   "source": []
  }
 ],
 "metadata": {
  "kernelspec": {
   "display_name": "Python 3",
   "language": "python",
   "name": "python3"
  },
  "language_info": {
   "codemirror_mode": {
    "name": "ipython",
    "version": 3
   },
   "file_extension": ".py",
   "mimetype": "text/x-python",
   "name": "python",
   "nbconvert_exporter": "python",
   "pygments_lexer": "ipython3",
   "version": "3.7.7"
  }
 },
 "nbformat": 4,
 "nbformat_minor": 4
}
